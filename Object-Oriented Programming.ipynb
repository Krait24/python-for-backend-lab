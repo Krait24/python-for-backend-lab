{
  "cells": [
    {
      "cell_type": "markdown",
      "metadata": {
        "id": "view-in-github",
        "colab_type": "text"
      },
      "source": [
        "<a href=\"https://colab.research.google.com/github/Krait24/python-for-backend-lab/blob/main/Object-Oriented%20Programming.ipynb\" target=\"_parent\"><img src=\"https://colab.research.google.com/assets/colab-badge.svg\" alt=\"Open In Colab\"/></a>"
      ]
    },
    {
      "cell_type": "markdown",
      "metadata": {
        "id": "j2KsD1fuNvMl"
      },
      "source": [
        "# Object-Oriented Programming\n",
        "\n",
        "In this notebook we will cover the principals of [object-oriented programming](https://en.wikipedia.org/wiki/Object-oriented_programming), primarily in [application to the Python programming language](https://docs.python.org/3/tutorial/classes.html).\n",
        "\n",
        "This notebook is written in collaboration with [Yassine Yousfi](https://yassineyousfi.github.io/)."
      ]
    },
    {
      "cell_type": "markdown",
      "metadata": {
        "id": "1wAVsW4ePES2"
      },
      "source": [
        "## 1. What is Object-Oriented Programming?\n",
        "\n",
        "> Object-oriented programming (OOP) is a programming paradigm based on the concept of \"[objects](https://en.wikipedia.org/wiki/Object_(computer_science))\", which can contain data and code: data in the form of fields (often known as attributes or properties), and code, in the form of procedures (often known as methods).\n",
        "\n",
        "This is in contrast to [procedural programming](https://en.wikipedia.org/wiki/Procedural_programming). If you are just learning how to program now, procedural programming is likely more akin to what you've been doing up until this point, though you've likely worked with a number of paradigms, possibly without realizing it.\n",
        "\n",
        "> The focus of procedural programming is to break down a programming task into a collection of [variables](https://en.wikipedia.org/wiki/Variable_(computer_science)), [data structures](https://en.wikipedia.org/wiki/Data_structure), and [subroutines](https://en.wikipedia.org/wiki/Subroutine), whereas in [object-oriented programming](https://en.wikipedia.org/wiki/Object-oriented_programming) it is to break down a programming task into objects that expose behavior (methods) and data (members or attributes) using interfaces. The most important distinction is that while procedural programming uses procedures to operate on data structures, object-oriented programming bundles the two together, so an \"object\", which is an instance of a class, operates on its \"own\" data structure.\n",
        "\n",
        "[Python is an interpreted, interactive, object-oriented programming language.](https://docs.python.org/3/faq/general.html#what-is-python). For simplicity we will only be using Python in the code examples in this notebook.\n",
        "\n",
        "> [Python] incorporates modules, exceptions, dynamic typing, very high level dynamic data types, and classes. It supports multiple programming paradigms beyond object-oriented programming, such as procedural and functional programming. Python combines remarkable power with very clear syntax. It has interfaces to many system calls and libraries, as well as to various window systems, and is extensible in C or C++. It is also usable as an extension language for applications that need a programmable interface. Finally, Python is portable: it runs on many Unix variants including Linux and macOS, and on Windows."
      ]
    },
    {
      "cell_type": "markdown",
      "metadata": {
        "id": "7-RFdir9R1-F"
      },
      "source": [
        "## 2. Objects and Classes in Python\n",
        "\n",
        "Building real world projects in the Python programming language usually requires a level of experience with object-oriented programming. Think of some of the complex Python packages that you have used up until now, for instance, [`numpy`](https://github.com/numpy/numpy). Such complex packages can take advantage of the OOP paradigm so that they can be easily maintained and improved upon over long periods of time.\n",
        "\n",
        "We already know that a Python _Class_ is essentially defining a new Python type containing it's own attributes and methods. Additionally we should know that everything in Python is an _object_; an _instance of a class_. We can prove that an object is an instance of a class by considering that a Python object always has a type, and a type is defined by a class.\n",
        "\n",
        "Some classes come standard in Python, others might be user-defined, others still might be imported from a library.\n",
        "\n",
        "Therefore, the following is the truth:"
      ]
    },
    {
      "cell_type": "code",
      "execution_count": null,
      "metadata": {
        "id": "Mhs3D0EGR1-G",
        "outputId": "285c1965-5af1-47c3-cefb-3ba0c32e78eb"
      },
      "outputs": [
        {
          "name": "stdout",
          "output_type": "stream",
          "text": [
            "OrderedDict and Car are both types: <class 'type'>, <class 'type'>.\n",
            "\n",
            "And my_car is an instance of the class <class '__main__.Car'> just as od is an instance of the class <class 'collections.OrderedDict'>\n"
          ]
        }
      ],
      "source": [
        "from collections import OrderedDict\n",
        "\n",
        "class Car:\n",
        "    \"\"\"Just a car.\"\"\"\n",
        "    def __init__(self):\n",
        "        self.fuel_level = 1.0\n",
        "        self.speed = 0.0\n",
        "        \n",
        "    def refuel(self):\n",
        "        self.fuel_level = 1.0\n",
        "        \n",
        "    def accelerate(self):\n",
        "        if self.fuel_level > 0:\n",
        "            self.fuel_level -= 0.01\n",
        "            self.speed += 0.1\n",
        "        \n",
        "    def decelerate(self):\n",
        "        if self.speed > 0:\n",
        "            self.speed -= 0.1\n",
        "\n",
        "print(f'{OrderedDict.__name__} and {Car.__name__} are both types: {type(OrderedDict)}, {type(Car)}.')\n",
        "\n",
        "my_car = Car()\n",
        "od = OrderedDict()\n",
        "\n",
        "print(f'\\nAnd my_car is an instance of the class {type(my_car)} just as od is an instance of the class {type(od)}')"
      ]
    },
    {
      "cell_type": "markdown",
      "metadata": {
        "id": "Vu3jNrlPR1-I"
      },
      "source": [
        "Above, we clearly observe the relationship between types, classes, and objects. A type is defined by a class, a class is instantiated by an object, an object must therefore have exactly one type and exactly one class and will always expose the methods and attributes defined by it's class.\n",
        "\n",
        "Further this proves that a class must have zero or more instances.\n",
        "\n",
        "Now that we have the general theory, let's consider the practice."
      ]
    },
    {
      "cell_type": "markdown",
      "metadata": {
        "id": "cfm0CfWAR1-I"
      },
      "source": [
        "### 2.1 Class syntax\n",
        "\n",
        "Consider our `Car` class above.\n",
        "\n",
        "```py\n",
        "class Car:\n",
        "    \"\"\"Just a car.\"\"\"\n",
        "    def __init__(self):\n",
        "        self.fuel_level = 1.0\n",
        "        self.speed = 0.0\n",
        "        \n",
        "    def refuel(self):\n",
        "        self.fuel_level = 1.0\n",
        "        \n",
        "    def accelerate(self):\n",
        "        if self.fuel_level > 0:\n",
        "            self.fuel_level -= 0.01\n",
        "            self.speed += 0.1\n",
        "        \n",
        "    def decelerate(self):\n",
        "        if self.speed > 0:\n",
        "            self.speed -= 0.1\n",
        "```\n",
        "\n",
        "In real life, most if not all average, everyday cars share vastly similar _**attributes**_ and _**functions**_. This is because they are all basically the same _**type**_ of thing. When we **accelerate** in one car, for instance, it behaves similarly to any other car, had we accelerated in that car instead.\n",
        "\n",
        "Yet, the universe dictates that while one _**object**_ and another _**object**_ might behave _identically_, the two are _not the same **object**_. For example, accelerating one _**type**_ of vehicle does not accelerate all the other vehicles of the same _**type**_.\n",
        "\n",
        "In programming, such rules are not always a given. Consider the following code block."
      ]
    },
    {
      "cell_type": "code",
      "execution_count": null,
      "metadata": {
        "id": "-A4QSmQJR1-J",
        "outputId": "04a568ba-ee6e-4ebe-fa1e-00303ddba0a3"
      },
      "outputs": [
        {
          "name": "stdout",
          "output_type": "stream",
          "text": [
            "The speed of my_car is 100 and the speed of your car is 100\n"
          ]
        }
      ],
      "source": [
        "a_type_of_car = {\"speed\": 0}\n",
        "\n",
        "my_car = a_type_of_car\n",
        "your_car = a_type_of_car\n",
        "\n",
        "my_car['speed'] = 100\n",
        "\n",
        "print(f\"The speed of my_car is {my_car['speed']} and the speed of your car is {your_car['speed']}\")"
      ]
    },
    {
      "cell_type": "markdown",
      "metadata": {
        "id": "yqEgOS3hR1-J"
      },
      "source": [
        "What happened?\n",
        "\n",
        "Well, `my_car` and `your_car` actually reference the same car in the above example. So accelerating `my_car` also affects `your_car`.\n",
        "\n",
        "Obviously, we don't always want this behavior, especially when we are creating multiple class instances!\n",
        "\n",
        "So if a Python class has one-million instantiated objects, how does the class know which to accelerate?\n",
        "\n",
        "You've already seen the solution in the above code examples: `self`."
      ]
    },
    {
      "cell_type": "markdown",
      "metadata": {
        "id": "cmIjTrZsV2lQ"
      },
      "source": [
        "#### 2.1.1 `self`\n",
        "\n",
        "The `self` argument represents a specific instance of a class. So when we reference the `self` argument in our class, we are actually accessing the specific attributes and methods belonging to an _instance_.\n",
        "\n",
        "`self` refers to the \"calling object,\" i.e. the instance that is calling the specific method.\n",
        "\n",
        "This is proven below."
      ]
    },
    {
      "cell_type": "code",
      "execution_count": null,
      "metadata": {
        "id": "MygdaAK4R1-L",
        "outputId": "db22dd97-2ab0-493e-9f5b-0f7848d0a809"
      },
      "outputs": [
        {
          "name": "stdout",
          "output_type": "stream",
          "text": [
            "0.1\n",
            "The speed of my_car is 0.1 and the speed of your car is 0.0 \n",
            "The fuel level of my_car is 0.99 and the fuel level of your car is 1.0\n"
          ]
        }
      ],
      "source": [
        "my_car = Car()\n",
        "your_car = Car()\n",
        "\n",
        "my_car.accelerate()\n",
        "\n",
        "print(my_car.speed)\n",
        "\n",
        "print(f'The speed of my_car is {my_car.speed} and the speed of your car is {your_car.speed}',\n",
        "      f'\\nThe fuel level of my_car is {my_car.fuel_level} and the fuel level of your car is {your_car.fuel_level}')"
      ]
    },
    {
      "cell_type": "markdown",
      "metadata": {
        "id": "Mtra5zrvR1-L"
      },
      "source": [
        "All class methods expect `self` to be their first argument.\n",
        "\n",
        "I encourage you to experiment with the `self` argument. Afterward we can look at [_special methods_](https://docs.python.org/3/reference/datamodel.html#special-method-names)."
      ]
    },
    {
      "cell_type": "markdown",
      "metadata": {
        "id": "Aalej71xR1-L"
      },
      "source": [
        "#### 2.1.2 [Special method names](https://docs.python.org/3/reference/datamodel.html#special-method-names)\n",
        "\n",
        "> A class can implement certain operations that are invoked by special syntax (such as arithmetic operations or subscripting and slicing) by defining methods with special names. This is Python's approach to [_operator overloading_](https://en.wikipedia.org/wiki/Operator_overloading), allowing classes to define their own behavior with respect to language operators. For instance, if a class defines a method named `__getitem__()`, and `x` is an instance of this class, then `x[i]` is roughly equivalent to `type(x).__getitem__(x, i)`.\n",
        "\n",
        "The first special method we can look at is the `__init__` method, which you have already observed above."
      ]
    },
    {
      "cell_type": "markdown",
      "metadata": {
        "id": "MQlwkms6eTcH"
      },
      "source": [
        "##### 2.1.2.1 `__init__`\n",
        "\n",
        "The `__init__` method is called a [`constructor`](https://en.wikipedia.org/wiki/Constructor_(object-oriented_programming)).\n",
        "\n",
        "> In [class-based](https://en.wikipedia.org/wiki/Class-based_programming) [object-oriented programming](https://en.wikipedia.org/wiki/Object-oriented_programming), a constructor is a special type of [subroutine](https://en.wikipedia.org/wiki/Subroutine) called to [create an object](https://en.wikipedia.org/wiki/Object_lifetime#Object_creation). It prepares the new object for use, often accepting [arguments](https://en.wikipedia.org/wiki/Parameter_(computer_programming)) that the constructor uses to set required member [variables](https://en.wikipedia.org/wiki/Member_variable).\n",
        "\n",
        "Here is an example:"
      ]
    },
    {
      "cell_type": "code",
      "execution_count": null,
      "metadata": {
        "id": "ab-HEln5e8bA"
      },
      "outputs": [],
      "source": [
        "class ComplexNumber: \n",
        "    def __init__(self, real_part, imaginary_part):\n",
        "        self.real_part = real_part\n",
        "        self.imaginary_part = imaginary_part\n",
        "\n",
        "z = ComplexNumber(real_part=1, imaginary_part=1)"
      ]
    },
    {
      "cell_type": "markdown",
      "metadata": {
        "id": "o5OzXl7_fSa1"
      },
      "source": [
        "This way we force the user to provide essential attributes (real_part and imaginary_part) at the moment of the instantiation."
      ]
    },
    {
      "cell_type": "code",
      "execution_count": null,
      "metadata": {
        "colab": {
          "base_uri": "https://localhost:8080/",
          "height": 35
        },
        "id": "G2draU1qfc9x",
        "outputId": "92d7634d-6058-4e3e-b47d-8b83b6bf502b"
      },
      "outputs": [
        {
          "name": "stdout",
          "output_type": "stream",
          "text": [
            "z = 1+3k\n"
          ]
        }
      ],
      "source": [
        "import numpy as np\n",
        "\n",
        "class ComplexNumber: \n",
        "    def __init__(self, real_part, imaginary_part, imaginary_number='i'):\n",
        "        self.real_part = real_part\n",
        "        self.imaginary_part = imaginary_part\n",
        "        self.imaginary_number = imaginary_number\n",
        "\n",
        "    def to_str(self):\n",
        "        sign = '+' if self.imaginary_part >= 0 else '-'\n",
        "        return str(self.real_part) + sign + str(np.abs(self.imaginary_part)) + self.imaginary_number\n",
        "\n",
        "z = ComplexNumber(1, 1, 'k')\n",
        "z.imaginary_part = 3\n",
        "print(f'z = {z.to_str()}')"
      ]
    },
    {
      "cell_type": "markdown",
      "metadata": {
        "id": "joT7VMLDR1-N"
      },
      "source": [
        "I encourage you to experiment more with Python constructors. For instance, try to see what happens when you don't pass all the required arguments. Afterward, we can look at more special methods."
      ]
    },
    {
      "cell_type": "markdown",
      "metadata": {
        "id": "YdoHCt9mgBIY"
      },
      "source": [
        "##### 2.1.2.2 Special arithmetic methods\n",
        "\n",
        "Special method names are always prefixed and suffixed by two underscores, such as `__init__`. As the `__init__` special method behaved differently from traditional methods, all special methods have unique Python specific behavior. for example addition [`__add__`](https://docs.python.org/3/reference/datamodel.html#object.__add__), subtraction [`__sub__`](https://docs.python.org/3/reference/datamodel.html#object.__sub__), and multiplication [`__mul__`](https://docs.python.org/3/reference/datamodel.html#object.__mul__).\n",
        "\n",
        "This is why operations such as `2 + 4` are valid. Internally, `2` (an instance of the `int` type) is executing it's `__add__` method as so: `(2).__add__(4)`. Observe in the cell below."
      ]
    },
    {
      "cell_type": "code",
      "execution_count": null,
      "metadata": {
        "id": "OWFpaiiyR1-N",
        "outputId": "ef00b365-88bf-459c-9548-a0b37d72e6d0"
      },
      "outputs": [
        {
          "name": "stdout",
          "output_type": "stream",
          "text": [
            "6\n",
            "6\n",
            "6\n",
            "6\n"
          ]
        }
      ],
      "source": [
        "print(2 + 4)\n",
        "print((2).__add__(4))\n",
        "x = 2\n",
        "y = 4\n",
        "print(x + y)\n",
        "print(x.__add__(y))"
      ]
    },
    {
      "cell_type": "markdown",
      "metadata": {
        "id": "C3EJSjRXR1-O"
      },
      "source": [
        "Therefore we have proved that special methods are predefined by Python for built-in types (`int`, `float`, etc.) where it makes sense.\n",
        "\n",
        "But what if you wanted to add such functionality to your own custom classes?\n",
        "\n",
        "Consider the cell below."
      ]
    },
    {
      "cell_type": "code",
      "execution_count": null,
      "metadata": {
        "colab": {
          "base_uri": "https://localhost:8080/",
          "height": 69
        },
        "id": "7VuWSfcPgAIl",
        "outputId": "53bc2d1d-248e-40d5-d7ec-98c4001fbf61"
      },
      "outputs": [
        {
          "name": "stdout",
          "output_type": "stream",
          "text": [
            "False\n",
            "1+1i\n",
            "2+2.1i\n"
          ]
        }
      ],
      "source": [
        "class ComplexNumber: \n",
        "    def __init__(self, real_part, imaginary_part):\n",
        "        self.real_part = real_part\n",
        "        self.imaginary_part = imaginary_part\n",
        "        self.imaginary_number = 'i'\n",
        "\n",
        "    def __eq__(self, other):\n",
        "        return self.real_part == other.real_part and self.imaginary_part == other.imaginary_part\n",
        "\n",
        "    def __str__(self):\n",
        "        sign = '+' if self.imaginary_part >= 0 else '-' \n",
        "        return str(self.real_part) + sign+  str(np.abs(self.imaginary_part)) + self.imaginary_number\n",
        "\n",
        "    def __add__(self, other):\n",
        "        return ComplexNumber(self.real_part + other.real_part, self.imaginary_part + other.imaginary_part)\n",
        "\n",
        "z1 = ComplexNumber(1, 1)\n",
        "z2 = ComplexNumber(1, 1.1)\n",
        "print(z1 == z2)\n",
        "print(z1)\n",
        "print(z1 + z2)"
      ]
    },
    {
      "cell_type": "markdown",
      "metadata": {
        "id": "sie54yn9R1-O"
      },
      "source": [
        "I encourage you to experiment with the different special methods and attributes as defined in the Python documentation. Try to think of how you might use them in practical cases. Afterward, let's look at one more feature of object-oriented programming in the Python language before tackling a project together."
      ]
    },
    {
      "cell_type": "markdown",
      "metadata": {
        "id": "s3b4T0QiPC2_"
      },
      "source": [
        "#### 2.1.3 [Class Inheritance](https://en.wikipedia.org/wiki/Class-based_programming#Inheritance)\n",
        "\n",
        "> In class-based programming, [inheritance](https://en.wikipedia.org/wiki/Inheritance_(object-oriented_programming)) is done by defining new classes as [extensions](https://en.wikipedia.org/wiki/Extension_(semantics)) of existing classes: the existing class is the [parent class](https://en.wikipedia.org/wiki/Inheritance_(object-oriented_programming)#Subclasses_and_superclasses) and the new class is the [child class](https://en.wikipedia.org/wiki/Inheritance_(object-oriented_programming)#Subclasses_and_superclasses). If a child class has only one parent class, this is known as [_single inheritance_](https://en.wikipedia.org/wiki/Multiple_inheritance#Single_inheritance), while if a child class can have more than one parent class, this is known as [_multiple inheritance_](https://en.wikipedia.org/wiki/Multiple_inheritance). This organizes classes into a [hierarchy](https://en.wikipedia.org/wiki/Hierarchy), _either a [tree](https://en.wikipedia.org/wiki/Tree_(set_theory))_ (if single inheritance) _or [lattice](https://en.wikipedia.org/wiki/Lattice_(order))_ (if multiple inheritance).\n",
        "\n",
        "Inheritance is an integral aspect of object-oriented programming. It is a mechanism where you can derive one class from another class. By now, you have already experimented with this concept. Now that you know really how objects work in Python, you can examine the simple code below, which creates a subclass of `dict` and `Car`, with a custom [`__eq__`]() method."
      ]
    },
    {
      "cell_type": "code",
      "execution_count": null,
      "metadata": {
        "id": "Q2tWOXs9mK04"
      },
      "outputs": [],
      "source": [
        "class MotorizedShoppingCart(dict, Car):\n",
        "    \"\"\"A motorized shopping cart\"\"\"\n",
        "    def __init__(self, *args, **kwargs):\n",
        "        super().__init__(*args, **kwargs)\n",
        "        Car.__init__(self)\n",
        "        \n",
        "    def __eq__(self, other):\n",
        "        \"\"\"Compares the weight of my cart with another.\n",
        "        Args:\n",
        "            other: MotorizedShoppingCart or sequence.\n",
        "        Returns:\n",
        "            is_equal: boolean. The output of the weight comparison.\n",
        "        \"\"\"\n",
        "        my_item_weights = np.array([*self.values()]).flatten()\n",
        "        comp_item_weights = np.array([*other.values()]).flatten()\n",
        "        \n",
        "        return np.sum(my_item_weights) == np.sum(comp_item_weights)"
      ]
    },
    {
      "cell_type": "code",
      "execution_count": null,
      "metadata": {
        "colab": {
          "base_uri": "https://localhost:8080/",
          "height": 35
        },
        "id": "7OeDll05mKW1",
        "outputId": "fd033857-f904-424c-ed1c-caa6f9bc3ce4"
      },
      "outputs": [
        {
          "name": "stdout",
          "output_type": "stream",
          "text": [
            "The speed of my_cart is 0.1 and the speed of your_cart is 0.0, also, our shopping carts are the same weight.\n"
          ]
        }
      ],
      "source": [
        "my_cart = MotorizedShoppingCart({'peaches': 1, 'steaks': 1.9, 'marshmellows': 0.1})\n",
        "your_cart = MotorizedShoppingCart({'potatoes': 3})\n",
        "\n",
        "my_cart.accelerate()\n",
        "\n",
        "print(f\"The speed of my_cart is {my_cart.speed} and the speed of your_cart is {your_cart.speed},\",\n",
        "      f\"also, our shopping carts are{' ' if my_cart == your_cart else ' not '}the same weight.\")"
      ]
    },
    {
      "cell_type": "markdown",
      "metadata": {
        "id": "__9Xtc1hR1-P"
      },
      "source": [
        "Above, we see how useful inheritance can be, and by extension, how powerful object-oriented programming really is! Imagine classes with even more functionality. The possibilities are practically endless.\n",
        "\n",
        "I strongly encourage you to [read more about inheritance and _composition_ here](https://realpython.com/inheritance-composition-python/) for your own benefit."
      ]
    },
    {
      "cell_type": "markdown",
      "metadata": {
        "id": "y-111KSAR1-P"
      },
      "source": [
        "Now that we know a thing or two about OOP. We'll take a deep dive into backend web development with Flask."
      ]
    }
  ],
  "metadata": {
    "colab": {
      "collapsed_sections": [],
      "name": "Object_oriented_programming.ipynb",
      "provenance": [],
      "include_colab_link": true
    },
    "kernelspec": {
      "display_name": "Python 3.10.4 64-bit",
      "language": "python",
      "name": "python3"
    },
    "language_info": {
      "codemirror_mode": {
        "name": "ipython",
        "version": 3
      },
      "file_extension": ".py",
      "mimetype": "text/x-python",
      "name": "python",
      "nbconvert_exporter": "python",
      "pygments_lexer": "ipython3",
      "version": "3.10.4"
    },
    "vscode": {
      "interpreter": {
        "hash": "31215a3d9a88c3e5376bc1569bca490ff026d58e85020fa189518dc520ec66fa"
      }
    }
  },
  "nbformat": 4,
  "nbformat_minor": 0
}